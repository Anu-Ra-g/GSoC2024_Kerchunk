{
 "cells": [
  {
   "cell_type": "code",
   "execution_count": 1,
   "metadata": {},
   "outputs": [],
   "source": [
    "from kerchunk.grib2 import parse_grib_idx, build_idx_grib_mapping, map_from_index, extract_datatree_chunk_index, grib_tree, scan_grib\n",
    "import pandas as pd\n",
    "import datatree\n",
    "import fsspec"
   ]
  },
  {
   "cell_type": "markdown",
   "metadata": {},
   "source": [
    "## Testing out the building of k_index(kerchunk index)\n",
    "\n",
    "In this notebook, we're going to see a single step in the index building. We will be using a `mapping` for the file `s3://noaa-gefs-pds/gefs.20170101/18/gec00.t18z.pgrb2af006` and compare it against the file `s3://noaa-gefs-pds/gefs.20170101/06/gec00.t06z.pgrb2af006`. \n",
    "\n",
    "This also works for files of the same repository and **same forecast`horizon`**, irrespective of the runtime. "
   ]
  },
  {
   "cell_type": "code",
   "execution_count": 2,
   "metadata": {},
   "outputs": [],
   "source": [
    "idxdf = parse_grib_idx(\"s3://noaa-gefs-pds/gefs.20170101/06/gec00.t06z.pgrb2af006\", storage_options=dict(anon=True))"
   ]
  },
  {
   "cell_type": "code",
   "execution_count": 3,
   "metadata": {},
   "outputs": [
    {
     "name": "stderr",
     "output_type": "stream",
     "text": [
      "The grib hierarchy in s3://noaa-gefs-pds/gefs.20170228/18/gec00.t18z.pgrb2af006 is not unique for 54 variables: ['gh', 't', 'r', 'u', 'v', 'gh', 't', 'r', 'u', 'v', 'gh', 't', 'r', 'u', 'v', 'gh', 't', 'r', 'u', 'v', 'gh', 't', 'r', 'u', 'v', 'u', 'v', 'u', 'v', 'gh', 't', 'r', 'u', 'v', 'gh', 't', 'r', 'u', 'v', 'gh', 't', 'r', 'u', 'v', 'gh', 't', 'r', 'u', 'v', 't', 'r', 'u', 'v', 'gh']\n"
     ]
    }
   ],
   "source": [
    "mapping = build_idx_grib_mapping(\"s3://noaa-gefs-pds/gefs.20170228/18/gec00.t18z.pgrb2af006\", storage_options=dict(anon=True), remote_options=dict(anon=True), validate=True)"
   ]
  },
  {
   "cell_type": "code",
   "execution_count": 4,
   "metadata": {},
   "outputs": [
    {
     "name": "stderr",
     "output_type": "stream",
     "text": [
      "/home/anurag/Code/GSoC/kerchunk_workspace/kerchunk/kerchunk/combine.py:374: UserWarning: Concatenated coordinate 'time' contains less than expectednumber of values across the datasets: [1483250400]\n",
      "  warnings.warn(\n",
      "/home/anurag/Code/GSoC/kerchunk_workspace/kerchunk/kerchunk/combine.py:374: UserWarning: Concatenated coordinate 'step' contains less than expectednumber of values across the datasets: [6]\n",
      "  warnings.warn(\n"
     ]
    }
   ],
   "source": [
    "grib_tree_store = grib_tree(scan_grib(\"s3://noaa-gefs-pds/gefs.20170101/06/gec00.t06z.pgrb2af006\", storage_options=dict(anon=True)), remote_options=dict(anon=True))"
   ]
  },
  {
   "cell_type": "code",
   "execution_count": 5,
   "metadata": {},
   "outputs": [],
   "source": [
    "dt = datatree.open_datatree(fsspec.filesystem(\"reference\", fo=grib_tree_store, remote_protocol=\"s3\", remote_options={\"anon\": True}).get_mapper(\"\"), engine=\"zarr\", consolidated=False)"
   ]
  },
  {
   "cell_type": "code",
   "execution_count": 6,
   "metadata": {},
   "outputs": [
    {
     "data": {
      "text/html": [
       "<div>\n",
       "<style scoped>\n",
       "    .dataframe tbody tr th:only-of-type {\n",
       "        vertical-align: middle;\n",
       "    }\n",
       "\n",
       "    .dataframe tbody tr th {\n",
       "        vertical-align: top;\n",
       "    }\n",
       "\n",
       "    .dataframe thead th {\n",
       "        text-align: right;\n",
       "    }\n",
       "</style>\n",
       "<table border=\"1\" class=\"dataframe\">\n",
       "  <thead>\n",
       "    <tr style=\"text-align: right;\">\n",
       "      <th></th>\n",
       "      <th>varname</th>\n",
       "      <th>typeOfLevel</th>\n",
       "      <th>stepType</th>\n",
       "      <th>name</th>\n",
       "      <th>number</th>\n",
       "      <th>step</th>\n",
       "      <th>time</th>\n",
       "      <th>valid_time</th>\n",
       "      <th>uri</th>\n",
       "      <th>offset</th>\n",
       "      <th>length</th>\n",
       "      <th>inline_value</th>\n",
       "      <th>surface</th>\n",
       "      <th>isobaricInhPa</th>\n",
       "      <th>meanSea</th>\n",
       "      <th>atmosphereSingleLayer</th>\n",
       "      <th>heightAboveGround</th>\n",
       "      <th>atmosphere</th>\n",
       "      <th>nominalTop</th>\n",
       "    </tr>\n",
       "  </thead>\n",
       "  <tbody>\n",
       "    <tr>\n",
       "      <th>66</th>\n",
       "      <td>ulwrf</td>\n",
       "      <td>nominalTop</td>\n",
       "      <td>avg</td>\n",
       "      <td>Upward long-wave radiation flux</td>\n",
       "      <td>0</td>\n",
       "      <td>0 days 06:00:00</td>\n",
       "      <td>2017-01-01 06:00:00</td>\n",
       "      <td>2017-01-01 12:00:00</td>\n",
       "      <td>s3://noaa-gefs-pds/gefs.20170101/06/gec00.t06z...</td>\n",
       "      <td>3924345</td>\n",
       "      <td>43221</td>\n",
       "      <td>None</td>\n",
       "      <td>NaN</td>\n",
       "      <td>NaN</td>\n",
       "      <td>NaN</td>\n",
       "      <td>NaN</td>\n",
       "      <td>NaN</td>\n",
       "      <td>NaN</td>\n",
       "      <td>0.0</td>\n",
       "    </tr>\n",
       "    <tr>\n",
       "      <th>67</th>\n",
       "      <td>ulwrf</td>\n",
       "      <td>surface</td>\n",
       "      <td>avg</td>\n",
       "      <td>Upward long-wave radiation flux</td>\n",
       "      <td>0</td>\n",
       "      <td>0 days 06:00:00</td>\n",
       "      <td>2017-01-01 06:00:00</td>\n",
       "      <td>2017-01-01 12:00:00</td>\n",
       "      <td>s3://noaa-gefs-pds/gefs.20170101/06/gec00.t06z...</td>\n",
       "      <td>3885258</td>\n",
       "      <td>39087</td>\n",
       "      <td>None</td>\n",
       "      <td>0.0</td>\n",
       "      <td>NaN</td>\n",
       "      <td>NaN</td>\n",
       "      <td>NaN</td>\n",
       "      <td>NaN</td>\n",
       "      <td>NaN</td>\n",
       "      <td>NaN</td>\n",
       "    </tr>\n",
       "  </tbody>\n",
       "</table>\n",
       "</div>"
      ],
      "text/plain": [
       "   varname typeOfLevel stepType                             name  number  \\\n",
       "66   ulwrf  nominalTop      avg  Upward long-wave radiation flux       0   \n",
       "67   ulwrf     surface      avg  Upward long-wave radiation flux       0   \n",
       "\n",
       "              step                time          valid_time  \\\n",
       "66 0 days 06:00:00 2017-01-01 06:00:00 2017-01-01 12:00:00   \n",
       "67 0 days 06:00:00 2017-01-01 06:00:00 2017-01-01 12:00:00   \n",
       "\n",
       "                                                  uri   offset  length  \\\n",
       "66  s3://noaa-gefs-pds/gefs.20170101/06/gec00.t06z...  3924345   43221   \n",
       "67  s3://noaa-gefs-pds/gefs.20170101/06/gec00.t06z...  3885258   39087   \n",
       "\n",
       "   inline_value  surface  isobaricInhPa  meanSea  atmosphereSingleLayer  \\\n",
       "66         None      NaN            NaN      NaN                    NaN   \n",
       "67         None      0.0            NaN      NaN                    NaN   \n",
       "\n",
       "    heightAboveGround  atmosphere  nominalTop  \n",
       "66                NaN         NaN         0.0  \n",
       "67                NaN         NaN         NaN  "
      ]
     },
     "execution_count": 6,
     "metadata": {},
     "output_type": "execute_result"
    }
   ],
   "source": [
    "grib_df = extract_datatree_chunk_index(dt, grib_tree_store)\n",
    "grib_df.loc[grib_df['varname'] == \"ulwrf\"]"
   ]
  },
  {
   "cell_type": "code",
   "execution_count": 7,
   "metadata": {},
   "outputs": [
    {
     "data": {
      "text/html": [
       "<div>\n",
       "<style scoped>\n",
       "    .dataframe tbody tr th:only-of-type {\n",
       "        vertical-align: middle;\n",
       "    }\n",
       "\n",
       "    .dataframe tbody tr th {\n",
       "        vertical-align: top;\n",
       "    }\n",
       "\n",
       "    .dataframe thead th {\n",
       "        text-align: right;\n",
       "    }\n",
       "</style>\n",
       "<table border=\"1\" class=\"dataframe\">\n",
       "  <thead>\n",
       "    <tr style=\"text-align: right;\">\n",
       "      <th></th>\n",
       "      <th>varname</th>\n",
       "      <th>typeOfLevel</th>\n",
       "      <th>stepType</th>\n",
       "      <th>name</th>\n",
       "      <th>step</th>\n",
       "      <th>level</th>\n",
       "      <th>time</th>\n",
       "      <th>valid_time</th>\n",
       "      <th>uri</th>\n",
       "      <th>offset</th>\n",
       "      <th>length</th>\n",
       "      <th>inline_value</th>\n",
       "    </tr>\n",
       "  </thead>\n",
       "  <tbody>\n",
       "    <tr>\n",
       "      <th>78</th>\n",
       "      <td>ulwrf</td>\n",
       "      <td>surface</td>\n",
       "      <td>avg</td>\n",
       "      <td>Upward long-wave radiation flux</td>\n",
       "      <td>0 days 06:00:00</td>\n",
       "      <td>0.0</td>\n",
       "      <td>2017-01-01 06:00:00</td>\n",
       "      <td>2017-01-01 12:00:00</td>\n",
       "      <td>s3://noaa-gefs-pds/gefs.20170101/06/gec00.t06z...</td>\n",
       "      <td>3885258</td>\n",
       "      <td>39087</td>\n",
       "      <td>None</td>\n",
       "    </tr>\n",
       "    <tr>\n",
       "      <th>79</th>\n",
       "      <td>ulwrf</td>\n",
       "      <td>nominalTop</td>\n",
       "      <td>avg</td>\n",
       "      <td>Upward long-wave radiation flux</td>\n",
       "      <td>0 days 06:00:00</td>\n",
       "      <td>0.0</td>\n",
       "      <td>2017-01-01 06:00:00</td>\n",
       "      <td>2017-01-01 12:00:00</td>\n",
       "      <td>s3://noaa-gefs-pds/gefs.20170101/06/gec00.t06z...</td>\n",
       "      <td>3924345</td>\n",
       "      <td>43221</td>\n",
       "      <td>None</td>\n",
       "    </tr>\n",
       "  </tbody>\n",
       "</table>\n",
       "</div>"
      ],
      "text/plain": [
       "   varname typeOfLevel stepType                             name  \\\n",
       "78   ulwrf     surface      avg  Upward long-wave radiation flux   \n",
       "79   ulwrf  nominalTop      avg  Upward long-wave radiation flux   \n",
       "\n",
       "              step  level                time          valid_time  \\\n",
       "78 0 days 06:00:00    0.0 2017-01-01 06:00:00 2017-01-01 12:00:00   \n",
       "79 0 days 06:00:00    0.0 2017-01-01 06:00:00 2017-01-01 12:00:00   \n",
       "\n",
       "                                                  uri   offset  length  \\\n",
       "78  s3://noaa-gefs-pds/gefs.20170101/06/gec00.t06z...  3885258   39087   \n",
       "79  s3://noaa-gefs-pds/gefs.20170101/06/gec00.t06z...  3924345   43221   \n",
       "\n",
       "   inline_value  \n",
       "78         None  \n",
       "79         None  "
      ]
     },
     "execution_count": 7,
     "metadata": {},
     "output_type": "execute_result"
    }
   ],
   "source": [
    "mapped_index = map_from_index(\n",
    "    pd.Timestamp(\"2017-01-01T06\"),\n",
    "    mapping.loc[~mapping[\"attrs\"].duplicated(keep=\"first\"), :],\n",
    "    idxdf.loc[~idxdf[\"attrs\"].duplicated(keep=\"first\"), :],\n",
    ")\n",
    "mapped_index.loc[mapped_index['varname'] == \"ulwrf\"]"
   ]
  },
  {
   "cell_type": "markdown",
   "metadata": {},
   "source": [
    "As we can see, for the `grib_df` and the `mapped_index` have the same values for a given variable i.e. `ulwrf`. "
   ]
  }
 ],
 "metadata": {
  "kernelspec": {
   "display_name": "test",
   "language": "python",
   "name": "python3"
  },
  "language_info": {
   "codemirror_mode": {
    "name": "ipython",
    "version": 3
   },
   "file_extension": ".py",
   "mimetype": "text/x-python",
   "name": "python",
   "nbconvert_exporter": "python",
   "pygments_lexer": "ipython3",
   "version": "3.11.9"
  }
 },
 "nbformat": 4,
 "nbformat_minor": 2
}
